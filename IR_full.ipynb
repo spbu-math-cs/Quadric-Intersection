{
 "cells": [
  {
   "cell_type": "markdown",
   "metadata": {},
   "source": [
    "# Identification rate calculation\n",
    "\n",
    "This jupyter notebook provide identification rate calculation for cplfw with distractors from megaface dataset with transformed similarity function."
   ]
  },
  {
   "cell_type": "code",
   "execution_count": 30,
   "metadata": {},
   "outputs": [],
   "source": [
    "import numpy as np\n",
    "from sklearn.preprocessing import normalize\n",
    "from ir_class import IrBigData\n",
    "import os\n",
    "from tqdm.notebook import tqdm\n",
    "import pandas as pd\n",
    "\n",
    "IrBigData._print_info = False"
   ]
  },
  {
   "cell_type": "markdown",
   "metadata": {},
   "source": [
    "Define models for which we calculate features. Then run bash scripts that build models for given methods, get features for cplfw and megaface in ./features folder ."
   ]
  },
  {
   "cell_type": "code",
   "execution_count": 31,
   "metadata": {},
   "outputs": [
    {
     "name": "stdout",
     "output_type": "stream",
     "text": [
      "outliers: 100%|###################################| 3/3 [00:06<00:00,  2.28s/it]\n"
     ]
    }
   ],
   "source": [
    "methods = ['PCA', 'norms']\n",
    "\n",
    "! python3 create_models.py --methods {' '.join(methods)}\n",
    "! python3 calculate_features.py --methods {' '.join(methods)} --datasets cplfw megaface "
   ]
  },
  {
   "cell_type": "markdown",
   "metadata": {},
   "source": [
    "Our basic similarity function is cosine distance, thus, for simplicity we normalize embeddings and use dot product of embeddings on a sphere."
   ]
  },
  {
   "cell_type": "code",
   "execution_count": 32,
   "metadata": {},
   "outputs": [],
   "source": [
    "cplfw_emb = normalize(np.load('image_embeddings/cplfw.npy'))\n",
    "megaface_emb = normalize(np.load('image_embeddings/megaface.npy'))\n",
    "\n",
    "with open('image_embeddings/labels/cplfw_labels.txt', encoding='utf-8') as txt_labels_file:\n",
    "    lines = txt_labels_file.readlines()\n",
    "cplfw_labels = np.array([i.rstrip('\\n') for i in lines])\n"
   ]
  },
  {
   "cell_type": "markdown",
   "metadata": {},
   "source": [
    "Define parameters we want to get, details are in IrBigData class documentaion. "
   ]
  },
  {
   "cell_type": "code",
   "execution_count": 33,
   "metadata": {},
   "outputs": [],
   "source": [
    "parameters_ir = {\n",
    "    \"similarity_type\": \"features\",\n",
    "    \"fpr_threshold\": 1e-5,\n",
    "    \"dist_type\": \"max_threshold\",\n",
    "    \"protocol\": \"data_distractors_no_false_pairs\",\n",
    "    \"N_distractors\": 10000\n",
    "}"
   ]
  },
  {
   "cell_type": "markdown",
   "metadata": {},
   "source": [
    "Next for each method we run experiments with 2 similarity functions: basic 'cosine' and 'features'. Cosine similarity_type $s(x ,y)$ corresponds to dot product of embeddings x, y on a sphere, for features we use next function:\n",
    "\n",
    "$$s_h(x, y) = \\begin{cases}\n",
    "s(x ,y), &\\max(o(x)), o(y))) < \\alpha, \\\\\n",
    "0, &\\max(o(x), o(y)) \\geq \\alpha,\n",
    "\\end{cases}$$\n",
    "\n",
    "where $t$ is a threshold parameter and $o(x)$ is a feature of $x$ embedding. To calculate the best $\\alpha$ we make grid of threshold parameter 'alpha' around 0.99 quantile of features, that corresponds to proportion of outliers in cplfw dataset, detected by eye. For each case we calculate identification and verification (identification with no outliers) rate.\n"
   ]
  },
  {
   "cell_type": "code",
   "execution_count": 63,
   "metadata": {
    "scrolled": true
   },
   "outputs": [
    {
     "data": {
      "application/vnd.jupyter.widget-view+json": {
       "model_id": "d4b0f8bed6f04a40be2c4b247d54cc62",
       "version_major": 2,
       "version_minor": 0
      },
      "text/plain": [
       "  0%|          | 0/2 [00:00<?, ?it/s]"
      ]
     },
     "metadata": {},
     "output_type": "display_data"
    },
    {
     "data": {
      "application/vnd.jupyter.widget-view+json": {
       "model_id": "",
       "version_major": 2,
       "version_minor": 0
      },
      "text/plain": [
       "  0%|          | 0/4 [00:00<?, ?it/s]"
      ]
     },
     "metadata": {},
     "output_type": "display_data"
    },
    {
     "data": {
      "application/vnd.jupyter.widget-view+json": {
       "model_id": "",
       "version_major": 2,
       "version_minor": 0
      },
      "text/plain": [
       "  0%|          | 0/4 [00:00<?, ?it/s]"
      ]
     },
     "metadata": {},
     "output_type": "display_data"
    }
   ],
   "source": [
    "# choose random distractors\n",
    "indices_random = np.random.choice(len(megaface_emb), \n",
    "                                  size=parameters_ir['N_distractors'], \n",
    "                                  replace=False)\n",
    "megaface_emb = megaface_emb[indices_random]\n",
    "\n",
    "\n",
    "results_dict = {}\n",
    "results_vr_dict = {}\n",
    "\n",
    "pbar = tqdm(methods)\n",
    "for method in pbar:\n",
    "    pbar.set_description(method)        \n",
    "    results_dict[method] = {'cosine':{}, 'features':{}}\n",
    "#     results_vr_dict[method] = {}\n",
    "    results_arr = []\n",
    "#     results_vr_arr = []\n",
    "\n",
    "    cplfw_features = np.load('features/cplfw/{}_dist.npy'.format(method))\n",
    "    megaface_features = np.load('features/megaface/{}_dist.npy'.format(method))[indices_random]\n",
    "    \n",
    "    IR = IrBigData(cplfw_emb, cplfw_features, \n",
    "               cplfw_labels, parameters_ir, distractors=megaface_emb, \n",
    "               distractor_features=megaface_features)\n",
    "    IR.params['similarity_type'] = 'features'\n",
    "    \n",
    "    quantiles_arr = [np.quantile(cplfw_features, i) for i in [0.984 + 0.001*i for i in range(11)]]\n",
    "    for alpha in tqdm(quantiles_arr, leave=False):\n",
    "        IR.params['alpha'] = alpha\n",
    "        IR.main()\n",
    "        results_arr.append(IR.CMT_)\n",
    "        results_vr_arr.append(IR.VR_)\n",
    "    \n",
    "    results_dict[method]['features']['ir'] = max(results_arr)\n",
    "    results_dict[method]['features']['vr'] = max(results_vr_arr)\n",
    "#     results_vr_dict[method]['features'] = max(results_vr_arr)\n",
    "    \n",
    "    IR = IrBigData(cplfw_emb, None,\n",
    "               cplfw_labels, parameters_ir, distractors=megaface_emb, \n",
    "               distractor_features=None)\n",
    "    IR.params['similarity_type'] = 'cosine'\n",
    "    IR.main()\n",
    "    results_dict[method]['cosine']['ir'] = IR.CMT_\n",
    "    results_dict[method]['cosine']['vr'] = IR.VR_\n",
    "#     results_vr_dict[method]['cosine'] = IR.VR_\n",
    "    "
   ]
  },
  {
   "cell_type": "code",
   "execution_count": 66,
   "metadata": {},
   "outputs": [
    {
     "data": {
      "text/plain": [
       "{'PCA': {'cosine': {'ir': 0.664875021849327, 'vr': 0.6664918720503409},\n",
       "  'features': {'ir': 0.6647002272330013, 'vr': 0.7443628736234924}},\n",
       " 'norms': {'cosine': {'ir': 0.664875021849327, 'vr': 0.6664918720503409},\n",
       "  'features': {'ir': 0.6647002272330013, 'vr': 0.7443628736234924}}}"
      ]
     },
     "execution_count": 66,
     "metadata": {},
     "output_type": "execute_result"
    }
   ],
   "source": [
    "results_dict"
   ]
  },
  {
   "cell_type": "code",
   "execution_count": 67,
   "metadata": {},
   "outputs": [
    {
     "data": {
      "text/html": [
       "<div>\n",
       "<style scoped>\n",
       "    .dataframe tbody tr th:only-of-type {\n",
       "        vertical-align: middle;\n",
       "    }\n",
       "\n",
       "    .dataframe tbody tr th {\n",
       "        vertical-align: top;\n",
       "    }\n",
       "\n",
       "    .dataframe thead th {\n",
       "        text-align: right;\n",
       "    }\n",
       "</style>\n",
       "<table border=\"1\" class=\"dataframe\">\n",
       "  <thead>\n",
       "    <tr style=\"text-align: right;\">\n",
       "      <th></th>\n",
       "      <th>PCA</th>\n",
       "      <th>norms</th>\n",
       "    </tr>\n",
       "  </thead>\n",
       "  <tbody>\n",
       "    <tr>\n",
       "      <th>cosine</th>\n",
       "      <td>{'ir': 0.664875021849327, 'vr': 0.666491872050...</td>\n",
       "      <td>{'ir': 0.664875021849327, 'vr': 0.666491872050...</td>\n",
       "    </tr>\n",
       "    <tr>\n",
       "      <th>features</th>\n",
       "      <td>{'ir': 0.6647002272330013, 'vr': 0.74436287362...</td>\n",
       "      <td>{'ir': 0.6647002272330013, 'vr': 0.74436287362...</td>\n",
       "    </tr>\n",
       "  </tbody>\n",
       "</table>\n",
       "</div>"
      ],
      "text/plain": [
       "                                                        PCA  \\\n",
       "cosine    {'ir': 0.664875021849327, 'vr': 0.666491872050...   \n",
       "features  {'ir': 0.6647002272330013, 'vr': 0.74436287362...   \n",
       "\n",
       "                                                      norms  \n",
       "cosine    {'ir': 0.664875021849327, 'vr': 0.666491872050...  \n",
       "features  {'ir': 0.6647002272330013, 'vr': 0.74436287362...  "
      ]
     },
     "execution_count": 67,
     "metadata": {},
     "output_type": "execute_result"
    }
   ],
   "source": [
    "a = pd.DataFrame.from_dict(results_dict)\n",
    "a"
   ]
  },
  {
   "cell_type": "code",
   "execution_count": null,
   "metadata": {},
   "outputs": [],
   "source": []
  }
 ],
 "metadata": {
  "kernelspec": {
   "display_name": "Python 3",
   "language": "python",
   "name": "python3"
  },
  "language_info": {
   "codemirror_mode": {
    "name": "ipython",
    "version": 3
   },
   "file_extension": ".py",
   "mimetype": "text/x-python",
   "name": "python",
   "nbconvert_exporter": "python",
   "pygments_lexer": "ipython3",
   "version": "3.6.9"
  }
 },
 "nbformat": 4,
 "nbformat_minor": 2
}
