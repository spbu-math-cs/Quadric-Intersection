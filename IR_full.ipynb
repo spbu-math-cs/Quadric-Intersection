{
 "cells": [
  {
   "cell_type": "markdown",
   "metadata": {},
   "source": [
    "# Identification rate calculation\n",
    "\n",
    "This jupyter notebook provide identification rate calculation for cplfw with distractors from megaface dataset."
   ]
  },
  {
   "cell_type": "code",
   "execution_count": 30,
   "metadata": {},
   "outputs": [],
   "source": [
    "import numpy as np\n",
    "from sklearn.preprocessing import normalize\n",
    "from ir_class import IrBigData\n",
    "import os\n",
    "from tqdm.notebook import tqdm\n",
    "import pandas as pd\n",
    "\n",
    "IrBigData._print_info = False"
   ]
  },
  {
   "cell_type": "markdown",
   "metadata": {},
   "source": [
    "Define models for which we calculate features. Then run bash scripts that build models for given methods, get features for cplfw"
   ]
  },
  {
   "cell_type": "code",
   "execution_count": 31,
   "metadata": {},
   "outputs": [
    {
     "name": "stdout",
     "output_type": "stream",
     "text": [
      "outliers: 100%|###################################| 3/3 [00:06<00:00,  2.28s/it]\n"
     ]
    }
   ],
   "source": [
    "methods = ['PCA', 'norms']\n",
    "\n",
    "! python3 create_models.py --methods {' '.join(methods)}\n",
    "! python3 calculate_features.py --methods {' '.join(methods)} --datasets cplfw megaface "
   ]
  },
  {
   "cell_type": "code",
   "execution_count": 32,
   "metadata": {},
   "outputs": [],
   "source": [
    "cplfw_emb = normalize(np.load('image_embeddings/cplfw.npy'))\n",
    "megaface_emb = normalize(np.load('image_embeddings/megaface.npy'))\n",
    "\n",
    "with open('image_embeddings/labels/cplfw_labels.txt', encoding='utf-8') as txt_labels_file:\n",
    "    lines = txt_labels_file.readlines()\n",
    "cplfw_labels = np.array([i.rstrip('\\n') for i in lines])\n"
   ]
  },
  {
   "cell_type": "markdown",
   "metadata": {},
   "source": [
    "Define parameters we want to get"
   ]
  },
  {
   "cell_type": "code",
   "execution_count": 33,
   "metadata": {},
   "outputs": [],
   "source": [
    "parameters_ir = {\n",
    "    \"similarity_type\": \"features\",\n",
    "    \"fpr_threshold\": 1e-5,\n",
    "    \"dist_type\": \"max_threshold\",\n",
    "    \"protocol\": \"data_distractors_no_false_pairs\",\n",
    "    \"N_distractors\": 10000\n",
    "}"
   ]
  },
  {
   "cell_type": "code",
   "execution_count": 42,
   "metadata": {
    "scrolled": true
   },
   "outputs": [
    {
     "data": {
      "application/vnd.jupyter.widget-view+json": {
       "model_id": "f60074e7541b429e938e317793c0617f",
       "version_major": 2,
       "version_minor": 0
      },
      "text/plain": [
       "  0%|          | 0/2 [00:00<?, ?it/s]"
      ]
     },
     "metadata": {},
     "output_type": "display_data"
    },
    {
     "data": {
      "application/vnd.jupyter.widget-view+json": {
       "model_id": "",
       "version_major": 2,
       "version_minor": 0
      },
      "text/plain": [
       "  0%|          | 0/4 [00:00<?, ?it/s]"
      ]
     },
     "metadata": {},
     "output_type": "display_data"
    },
    {
     "data": {
      "application/vnd.jupyter.widget-view+json": {
       "model_id": "",
       "version_major": 2,
       "version_minor": 0
      },
      "text/plain": [
       "  0%|          | 0/4 [00:00<?, ?it/s]"
      ]
     },
     "metadata": {},
     "output_type": "display_data"
    }
   ],
   "source": [
    "# choose random distractors\n",
    "indices_random = np.random.choice(len(megaface_emb), \n",
    "                                  size=parameters_ir['N_distractors'], \n",
    "                                  replace=False)\n",
    "megaface_emb = megaface_emb[indices_random]\n",
    "\n",
    "\n",
    "results_dict = {}\n",
    "results_vr_dict = {}\n",
    "\n",
    "pbar = tqdm(methods)\n",
    "for method in pbar:\n",
    "    pbar.set_description(method)        \n",
    "    results_dict[method] = {}\n",
    "    results_vr_dict[method] = {}\n",
    "    results_arr = []\n",
    "    results_vr_arr = []\n",
    "\n",
    "    cplfw_features = np.load('features/cplfw/{}_dist.npy'.format(method))\n",
    "    megaface_features = np.load('features/megaface/{}_dist.npy'.format(method))[indices_random]\n",
    "    \n",
    "    IR = IrBigData(cplfw_emb, cplfw_features, \n",
    "               cplfw_labels, parameters_ir, distractors=megaface_emb, \n",
    "               distractor_features=megaface_features)\n",
    "    IR.params['similarity_type'] = 'features'\n",
    "    \n",
    "    quantiles_arr = [np.quantile(cplfw_features, i) for i in [0.985, 0.988, 0.992, 1.]]\n",
    "    for alpha in tqdm(quantiles_arr, leave=False):\n",
    "        IR.params['alpha'] = alpha\n",
    "        IR.main()\n",
    "        results_arr.append(IR.CMT_)\n",
    "        results_vr_arr.append(IR.VR_)\n",
    "    \n",
    "    results_dict[method]['features'] = max(results_arr)\n",
    "    results_vr_dict[method]['features'] = max(results_vr_arr)\n",
    "    \n",
    "    IR = IrBigData(cplfw_emb, None,\n",
    "               cplfw_labels, parameters_ir, distractors=megaface_emb, \n",
    "               distractor_features=None)\n",
    "    IR.params['similarity_type'] = 'cosine'\n",
    "    IR.main()\n",
    "    results_dict[method]['cosine'] = IR.CMT_\n",
    "    results_vr_dict[method]['cosine'] = IR.VR_\n",
    "    "
   ]
  },
  {
   "cell_type": "code",
   "execution_count": 43,
   "metadata": {},
   "outputs": [
    {
     "data": {
      "text/plain": [
       "[0.7417846530326866, 0.7416098584163607, 0.7343121831847579, 0.668720503408495]"
      ]
     },
     "execution_count": 43,
     "metadata": {},
     "output_type": "execute_result"
    }
   ],
   "source": [
    "results_arr"
   ]
  },
  {
   "cell_type": "code",
   "execution_count": 44,
   "metadata": {},
   "outputs": [
    {
     "data": {
      "text/plain": [
       "{'PCA': {'features': 0.7192798461807376, 'cosine': 0.664875021849327},\n",
       " 'norms': {'features': 0.7417846530326866, 'cosine': 0.664875021849327}}"
      ]
     },
     "execution_count": 44,
     "metadata": {},
     "output_type": "execute_result"
    }
   ],
   "source": [
    "results_dict"
   ]
  },
  {
   "cell_type": "code",
   "execution_count": 45,
   "metadata": {},
   "outputs": [
    {
     "data": {
      "text/plain": [
       "{'PCA': {'features': 0.7212899842684846, 'cosine': 0.6664918720503409},\n",
       " 'norms': {'features': 0.7443628736234924, 'cosine': 0.6664918720503409}}"
      ]
     },
     "execution_count": 45,
     "metadata": {},
     "output_type": "execute_result"
    }
   ],
   "source": [
    "results_vr_dict"
   ]
  },
  {
   "cell_type": "code",
   "execution_count": 20,
   "metadata": {},
   "outputs": [],
   "source": [
    "a = pd.DataFrame.from_dict(results_vr_dict)\n",
    "\n",
    "a['type'] = 'VR'"
   ]
  },
  {
   "cell_type": "code",
   "execution_count": 21,
   "metadata": {},
   "outputs": [],
   "source": [
    "b = pd.DataFrame.from_dict(results_dict)\n",
    "\n",
    "b['type'] = 'IR'"
   ]
  },
  {
   "cell_type": "code",
   "execution_count": 26,
   "metadata": {},
   "outputs": [
    {
     "data": {
      "text/html": [
       "<div>\n",
       "<style scoped>\n",
       "    .dataframe tbody tr th:only-of-type {\n",
       "        vertical-align: middle;\n",
       "    }\n",
       "\n",
       "    .dataframe tbody tr th {\n",
       "        vertical-align: top;\n",
       "    }\n",
       "\n",
       "    .dataframe thead th {\n",
       "        text-align: right;\n",
       "    }\n",
       "</style>\n",
       "<table border=\"1\" class=\"dataframe\">\n",
       "  <thead>\n",
       "    <tr style=\"text-align: right;\">\n",
       "      <th></th>\n",
       "      <th>PCA</th>\n",
       "      <th>norms</th>\n",
       "    </tr>\n",
       "  </thead>\n",
       "  <tbody>\n",
       "    <tr>\n",
       "      <th>features</th>\n",
       "      <td>0.666317</td>\n",
       "      <td>0.666317</td>\n",
       "    </tr>\n",
       "    <tr>\n",
       "      <th>cosine</th>\n",
       "      <td>0.666492</td>\n",
       "      <td>0.666492</td>\n",
       "    </tr>\n",
       "  </tbody>\n",
       "</table>\n",
       "</div>"
      ],
      "text/plain": [
       "               PCA     norms\n",
       "features  0.666317  0.666317\n",
       "cosine    0.666492  0.666492"
      ]
     },
     "execution_count": 26,
     "metadata": {},
     "output_type": "execute_result"
    }
   ],
   "source": [
    "a"
   ]
  },
  {
   "cell_type": "code",
   "execution_count": 27,
   "metadata": {},
   "outputs": [
    {
     "data": {
      "text/html": [
       "<div>\n",
       "<style scoped>\n",
       "    .dataframe tbody tr th:only-of-type {\n",
       "        vertical-align: middle;\n",
       "    }\n",
       "\n",
       "    .dataframe tbody tr th {\n",
       "        vertical-align: top;\n",
       "    }\n",
       "\n",
       "    .dataframe thead th {\n",
       "        text-align: right;\n",
       "    }\n",
       "</style>\n",
       "<table border=\"1\" class=\"dataframe\">\n",
       "  <thead>\n",
       "    <tr style=\"text-align: right;\">\n",
       "      <th></th>\n",
       "      <th>PCA</th>\n",
       "      <th>norms</th>\n",
       "    </tr>\n",
       "  </thead>\n",
       "  <tbody>\n",
       "    <tr>\n",
       "      <th>features</th>\n",
       "      <td>0.663564</td>\n",
       "      <td>0.663564</td>\n",
       "    </tr>\n",
       "    <tr>\n",
       "      <th>cosine</th>\n",
       "      <td>0.663739</td>\n",
       "      <td>0.663739</td>\n",
       "    </tr>\n",
       "  </tbody>\n",
       "</table>\n",
       "</div>"
      ],
      "text/plain": [
       "               PCA     norms\n",
       "features  0.663564  0.663564\n",
       "cosine    0.663739  0.663739"
      ]
     },
     "execution_count": 27,
     "metadata": {},
     "output_type": "execute_result"
    }
   ],
   "source": [
    "b"
   ]
  },
  {
   "cell_type": "code",
   "execution_count": 29,
   "metadata": {},
   "outputs": [
    {
     "data": {
      "text/html": [
       "<div>\n",
       "<style scoped>\n",
       "    .dataframe tbody tr th:only-of-type {\n",
       "        vertical-align: middle;\n",
       "    }\n",
       "\n",
       "    .dataframe tbody tr th {\n",
       "        vertical-align: top;\n",
       "    }\n",
       "\n",
       "    .dataframe thead th {\n",
       "        text-align: right;\n",
       "    }\n",
       "</style>\n",
       "<table border=\"1\" class=\"dataframe\">\n",
       "  <thead>\n",
       "    <tr style=\"text-align: right;\">\n",
       "      <th></th>\n",
       "      <th>PCA</th>\n",
       "      <th>norms</th>\n",
       "    </tr>\n",
       "  </thead>\n",
       "  <tbody>\n",
       "    <tr>\n",
       "      <th>0</th>\n",
       "      <td>0.666317</td>\n",
       "      <td>0.666317</td>\n",
       "    </tr>\n",
       "    <tr>\n",
       "      <th>1</th>\n",
       "      <td>0.666492</td>\n",
       "      <td>0.666492</td>\n",
       "    </tr>\n",
       "    <tr>\n",
       "      <th>2</th>\n",
       "      <td>0.663564</td>\n",
       "      <td>0.663564</td>\n",
       "    </tr>\n",
       "    <tr>\n",
       "      <th>3</th>\n",
       "      <td>0.663739</td>\n",
       "      <td>0.663739</td>\n",
       "    </tr>\n",
       "  </tbody>\n",
       "</table>\n",
       "</div>"
      ],
      "text/plain": [
       "        PCA     norms\n",
       "0  0.666317  0.666317\n",
       "1  0.666492  0.666492\n",
       "2  0.663564  0.663564\n",
       "3  0.663739  0.663739"
      ]
     },
     "execution_count": 29,
     "metadata": {},
     "output_type": "execute_result"
    }
   ],
   "source": [
    "a.merge(b, how='outer')"
   ]
  },
  {
   "cell_type": "code",
   "execution_count": null,
   "metadata": {},
   "outputs": [],
   "source": []
  },
  {
   "cell_type": "code",
   "execution_count": 41,
   "metadata": {},
   "outputs": [
    {
     "data": {
      "text/plain": [
       "array([20.789286, 18.429598, 23.404694, ..., 22.691399, 20.809158,\n",
       "       21.739761], dtype=float32)"
      ]
     },
     "execution_count": 41,
     "metadata": {},
     "output_type": "execute_result"
    }
   ],
   "source": []
  },
  {
   "cell_type": "code",
   "execution_count": null,
   "metadata": {},
   "outputs": [],
   "source": []
  }
 ],
 "metadata": {
  "kernelspec": {
   "display_name": "Python 3",
   "language": "python",
   "name": "python3"
  },
  "language_info": {
   "codemirror_mode": {
    "name": "ipython",
    "version": 3
   },
   "file_extension": ".py",
   "mimetype": "text/x-python",
   "name": "python",
   "nbconvert_exporter": "python",
   "pygments_lexer": "ipython3",
   "version": "3.6.9"
  }
 },
 "nbformat": 4,
 "nbformat_minor": 2
}
