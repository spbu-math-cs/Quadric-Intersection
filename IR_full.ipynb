{
 "cells": [
  {
   "cell_type": "markdown",
   "metadata": {},
   "source": [
    "# Identification rate calculation\n",
    "\n",
    "This jupyter notebook provide IR calculation for "
   ]
  },
  {
   "cell_type": "code",
   "execution_count": null,
   "metadata": {},
   "outputs": [],
   "source": [
    "import numpy as np\n",
    "from sklearn.preprocessing import normalize\n",
    "from ir_class import *\n",
    "import os"
   ]
  },
  {
   "cell_type": "markdown",
   "metadata": {},
   "source": [
    "Define models for which we calculate features. Then run bash scripts that build models for given methods, get features for cplfw"
   ]
  },
  {
   "cell_type": "code",
   "execution_count": null,
   "metadata": {},
   "outputs": [],
   "source": [
    "methods = ['OneClassSVM', 'PCA', 'norms']\n",
    "\n",
    "! python3 create_models.py --methods {' '.join(methods)}\n",
    "! python3 calculate_features.py --methods {' '.join(methods)} --datasets cplfw megaface --shuffle=False"
   ]
  },
  {
   "cell_type": "code",
   "execution_count": null,
   "metadata": {},
   "outputs": [],
   "source": [
    "cplfw_emb = np.load('image_embeddings/cplfw.npy')\n",
    "megaface_emb = np.load('image_embeddings/megaface.npy')\n",
    "\n",
    "with open('image_embeddings/labels/cplfw_labels.txt') as txt_labels_file:\n",
    "    lines = txt_labels_file.readlines()\n",
    "cplfw_labels = np.array([i.rstrip('\\n') for i in lines])\n",
    "\n"
   ]
  },
  {
   "cell_type": "markdown",
   "metadata": {},
   "source": [
    "Define parameters we want to get"
   ]
  },
  {
   "cell_type": "code",
   "execution_count": null,
   "metadata": {},
   "outputs": [],
   "source": [
    "parameters_ir = {\n",
    "    \"similarity_type\": \"features\",\n",
    "    \"fpr_threshold\": 1e-5,\n",
    "    \"dist_type\": \"max_threshold\",\n",
    "    \"protocol\": \"data_distractors_in_false_pairs\",\n",
    "    \"N_distractors\": 10000\n",
    "}"
   ]
  },
  {
   "cell_type": "code",
   "execution_count": null,
   "metadata": {},
   "outputs": [],
   "source": [
    "# choose random distractors\n",
    "indices_random = np.random.choice(len(megaface_features), \n",
    "                                  size=parameters['N_distractors'], \n",
    "                                  replace=False)\n",
    "megaface_emb = megaface_emb[indices_random]\n",
    "\n",
    "\n",
    "results = {}\n",
    "results_no_distractors = {}\n",
    "\n",
    "for method in methods:\n",
    "    results_dict[methos] = {}\n",
    "    results_vr_dict[method] = {}\n",
    "    results_arr = []\n",
    "    results_vr_arr = []\n",
    "\n",
    "    cplfw_features = np.load('features/cplfw/{}_dist.npy'.format(method))\n",
    "    megaface_features = np.load('features/megaface/{}_dist.npy'.format(method))[indices_random]\n",
    "    \n",
    "    IR = IrBigData(normalize(emb), cplfw_features, \n",
    "               emb_names, parameters_ir, distractors=normalize(emb_megaface), \n",
    "               distractor_features=megaface_features)\n",
    "    \n",
    "    quantiles_arr = [np.quantile(cplfw_features, i) for i in [0.985, 1.]]\n",
    "    for alpha in quantiles_arr:\n",
    "        IR.params['alpha'] = alpha\n",
    "        IR.main()\n",
    "        results_arr.append(IR.CMT_)\n",
    "        results_vr_arr.append()\n",
    "        "
   ]
  },
  {
   "cell_type": "code",
   "execution_count": 7,
   "metadata": {},
   "outputs": [],
   "source": [
    "with open('image_embeddings/labels/cplfw_labels.txt') as txt_labels_file:\n",
    "    lines = txt_labels_file.readlines()\n",
    "\n",
    "lines = np.array([i.rstrip('\\n') for i in lines])"
   ]
  },
  {
   "cell_type": "code",
   "execution_count": 9,
   "metadata": {},
   "outputs": [
    {
     "data": {
      "text/plain": [
       "'Annette_Bening'"
      ]
     },
     "execution_count": 9,
     "metadata": {},
     "output_type": "execute_result"
    }
   ],
   "source": [
    "lines[-1]"
   ]
  },
  {
   "cell_type": "code",
   "execution_count": null,
   "metadata": {},
   "outputs": [],
   "source": []
  }
 ],
 "metadata": {
  "kernelspec": {
   "display_name": "Python 3",
   "language": "python",
   "name": "python3"
  },
  "language_info": {
   "codemirror_mode": {
    "name": "ipython",
    "version": 3
   },
   "file_extension": ".py",
   "mimetype": "text/x-python",
   "name": "python",
   "nbconvert_exporter": "python",
   "pygments_lexer": "ipython3",
   "version": "3.7.1"
  }
 },
 "nbformat": 4,
 "nbformat_minor": 2
}
