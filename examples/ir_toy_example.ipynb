{
 "cells": [
  {
   "cell_type": "code",
   "execution_count": 1,
   "metadata": {},
   "outputs": [],
   "source": [
    "import numpy as np\n",
    "from sklearn.preprocessing import normalize\n",
    "from ir_class import *\n",
    "import os"
   ]
  },
  {
   "cell_type": "code",
   "execution_count": 2,
   "metadata": {},
   "outputs": [],
   "source": [
    "N_megaface = 1000\n",
    "\n",
    "emb = np.load('toy_data/embeddings.npy')\n",
    "cplfw_features = np.load('toy_data/cplfw_quadrics_features.npy')\n",
    "emb_names = np.load('toy_data/labels.npy')\n",
    "\n",
    "emb_megaface = np.load('toy_data/distractors.npy')\n",
    "megaface_features = np.load(\"toy_data/megaface_quadrics_features.npy\")"
   ]
  },
  {
   "cell_type": "code",
   "execution_count": 3,
   "metadata": {},
   "outputs": [],
   "source": [
    "quantiles_arr = [np.quantile(cplfw_features, i) for i in [0.985, 1.]]\n"
   ]
  },
  {
   "cell_type": "code",
   "execution_count": 21,
   "metadata": {},
   "outputs": [],
   "source": [
    "parameters = {\n",
    "    \"similarity_type\": \"features\",\n",
    "    \"fpr_threshold\": 1e-3,\n",
    "    \"dist_type\": \"max_threshold\",\n",
    "    \"protocol\": \"data_distractors_in_false_pairs\"\n",
    "#     \"alpha\" : quantile98\n",
    "}"
   ]
  },
  {
   "cell_type": "code",
   "execution_count": 22,
   "metadata": {},
   "outputs": [],
   "source": [
    "IR = IrBigData(normalize(emb), cplfw_features, \n",
    "               emb_names, parameters, distractors=normalize(emb_megaface), \n",
    "               distractor_features=megaface_features)"
   ]
  },
  {
   "cell_type": "code",
   "execution_count": 23,
   "metadata": {
    "scrolled": true
   },
   "outputs": [
    {
     "name": "stdout",
     "output_type": "stream",
     "text": [
      "1\n"
     ]
    },
    {
     "name": "stderr",
     "output_type": "stream",
     "text": [
      "1986it [00:00, 119288.10it/s]"
     ]
    },
    {
     "name": "stdout",
     "output_type": "stream",
     "text": [
      "1184\n",
      "1518\n",
      "id rate = 0.7588116817724069\n",
      "id rate no distractors = 0.7643504531722054\n",
      "id rate only distractors = 0.7935548841893253\n",
      "2\n"
     ]
    },
    {
     "name": "stderr",
     "output_type": "stream",
     "text": [
      "\n",
      "1986it [00:00, 116523.11it/s]"
     ]
    },
    {
     "name": "stdout",
     "output_type": "stream",
     "text": [
      "1214\n",
      "1502\n",
      "id rate = 0.7522658610271903\n",
      "id rate no distractors = 0.756294058408862\n",
      "id rate only distractors = 0.8041289023162135\n"
     ]
    },
    {
     "name": "stderr",
     "output_type": "stream",
     "text": [
      "\n"
     ]
    }
   ],
   "source": [
    "for ind, alpha in enumerate(quantiles_arr):\n",
    "    print(ind+1)\n",
    "    IR.params['alpha'] = alpha\n",
    "    IR.main()"
   ]
  },
  {
   "cell_type": "code",
   "execution_count": 13,
   "metadata": {},
   "outputs": [],
   "source": [
    "# calculation with no features\n",
    "\n",
    "parameters = {\n",
    "    \"similarity_type\": \"dot_product\",\n",
    "    \"fpr_threshold\": 1e-3,\n",
    "    \"dist_type\": \"max_threshold\",\n",
    "    \"protocol\": \"data_distractors_no_false_pairs\",\n",
    "    \"alpha\" : 1 # random value\n",
    "}"
   ]
  },
  {
   "cell_type": "code",
   "execution_count": 14,
   "metadata": {},
   "outputs": [
    {
     "name": "stderr",
     "output_type": "stream",
     "text": [
      "1986it [00:00, 116335.96it/s]"
     ]
    },
    {
     "name": "stdout",
     "output_type": "stream",
     "text": [
      "1015\n",
      "1498\n",
      "id rate = 0.7502517623363545\n",
      "id rate no distractors = 0.7542799597180262\n",
      "id rate only distractors = 0.8041289023162135\n"
     ]
    },
    {
     "name": "stderr",
     "output_type": "stream",
     "text": [
      "\n"
     ]
    }
   ],
   "source": [
    "IR = IrBigData(normalize(emb), None, \n",
    "               emb_names, parameters, distractors=normalize(emb_megaface), \n",
    "               distractor_features=None)\n",
    "\n",
    "IR.main()"
   ]
  },
  {
   "cell_type": "code",
   "execution_count": null,
   "metadata": {},
   "outputs": [],
   "source": []
  }
 ],
 "metadata": {
  "kernelspec": {
   "display_name": "Python 3",
   "language": "python",
   "name": "python3"
  },
  "language_info": {
   "codemirror_mode": {
    "name": "ipython",
    "version": 3
   },
   "file_extension": ".py",
   "mimetype": "text/x-python",
   "name": "python",
   "nbconvert_exporter": "python",
   "pygments_lexer": "ipython3",
   "version": "3.6.9"
  }
 },
 "nbformat": 4,
 "nbformat_minor": 5
}
