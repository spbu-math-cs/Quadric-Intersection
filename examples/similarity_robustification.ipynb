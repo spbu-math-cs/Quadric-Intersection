{
 "cells": [
  {
   "cell_type": "markdown",
   "metadata": {},
   "source": [
    "# Demostration and Comparison of Similarity Robustification Methods\n",
    "\n",
    "This jupyter notebook allows to compare different similarity robustification methods in terms of the identification rate (IR) and verification rate (VR).\n",
    "\n",
    "We use CPLFW dataset with distractors from MegaFace dataset here."
   ]
  },
  {
   "cell_type": "code",
   "execution_count": 11,
   "metadata": {},
   "outputs": [],
   "source": [
    "import numpy as np\n",
    "from sklearn.preprocessing import normalize\n",
    "import os\n",
    "from tqdm.notebook import tqdm\n",
    "import pandas as pd\n",
    "import sys\n",
    "\n",
    "sys.path.append('../')\n",
    "from ir_package.ir_class import IrBigData\n",
    "IrBigData._print_info = False\n",
    "\n",
    "if os.getcwd().endswith('quadrics') is not True:\n",
    "    os.chdir('../')"
   ]
  },
  {
   "cell_type": "markdown",
   "metadata": {},
   "source": [
    "List the robustification techniques for which to calculate IR.\n",
    "**Note:** `'quadrics'` are not listed by default because their preparation takes very long time.\n",
    "\n",
    "Then run bash scripts to build the models corresponding to the listed techniques and save _CPLFW_ and _MegaFace_ features to features folder."
   ]
  },
  {
   "cell_type": "code",
   "execution_count": 2,
   "metadata": {},
   "outputs": [],
   "source": [
    "methods = ['PCA', 'norms']\n",
    "\n",
    "! python3 create_models.py --methods {' '.join(methods)}\n",
    "! python3 calculate_features.py --methods {' '.join(methods)} --datasets cplfw megaface "
   ]
  },
  {
   "cell_type": "markdown",
   "metadata": {},
   "source": [
    "The basic similarity function is the standard cosine similarity. Because of this, for simplicity, we normalize embeddings."
   ]
  },
  {
   "cell_type": "code",
   "execution_count": 12,
   "metadata": {},
   "outputs": [],
   "source": [
    "cplfw_emb = normalize(np.load('image_embeddings/cplfw.npy'))\n",
    "megaface_emb = normalize(np.load('image_embeddings/megaface.npy'))\n",
    "\n",
    "with open('image_embeddings/labels/cplfw_labels.txt', encoding='utf-8') as txt_labels_file:\n",
    "    lines = txt_labels_file.readlines()\n",
    "cplfw_labels = np.array([i.rstrip('\\n') for i in lines])"
   ]
  },
  {
   "cell_type": "markdown",
   "metadata": {},
   "source": [
    "Specify parameters (see full list of parameters with explanations in the documentation for IrBigData class). "
   ]
  },
  {
   "cell_type": "code",
   "execution_count": 4,
   "metadata": {},
   "outputs": [],
   "source": [
    "parameters_ir = {\n",
    "    \"similarity_type\": \"features\",\n",
    "    \"fpr_threshold\": 1e-5,\n",
    "    \"dist_type\": \"max_threshold\",\n",
    "    \"protocol\": \"data_distractors_no_false_pairs\",\n",
    "    \"N_distractors\": 10000\n",
    "}"
   ]
  },
  {
   "cell_type": "markdown",
   "metadata": {},
   "source": [
    "Next, for each of the robustification techniques we run experiments with two similarity functions: the basic `cosine` and the robustified `features`.\n",
    "\n",
    "If we denote the basic `cosine` similarity by $s(x ,y) = \\langle x, y \\rangle$, then the robustified `features` similarity $s_h(x, y)$ is given by:\n",
    "\n",
    "$$s_h(x, y) = \\begin{cases}\n",
    "s(x ,y), &\\max({\\sf o}(x)), {\\sf o}(y))) < \\alpha, \\\\\n",
    "0, &\\max({\\sf o}(x), {\\sf o}(y)) \\geq \\alpha,\n",
    "\\end{cases}$$\n",
    "\n",
    "where $\\alpha$ is the threshold parameter and ${\\sf o}(x)$ is the list of features of $x$ given by the robustification technique.\n",
    "\n",
    "We tune $\\alpha$ by grid search in the vicinity of 0.99 quantile of features, that roughly corresponds to the portion of outliers in _CPFLW_ dataset.\n",
    "\n",
    "In each case we calculate both the identification and verification (identification with no outliers) rates.\n"
   ]
  },
  {
   "cell_type": "code",
   "execution_count": 5,
   "metadata": {
    "scrolled": true
   },
   "outputs": [
    {
     "data": {
      "application/vnd.jupyter.widget-view+json": {
       "model_id": "3979f89ff7874233a44cc57a5a1c7f43",
       "version_major": 2,
       "version_minor": 0
      },
      "text/plain": [
       "  0%|          | 0/2 [00:00<?, ?it/s]"
      ]
     },
     "metadata": {},
     "output_type": "display_data"
    },
    {
     "data": {
      "application/vnd.jupyter.widget-view+json": {
       "model_id": "",
       "version_major": 2,
       "version_minor": 0
      },
      "text/plain": [
       "  0%|          | 0/11 [00:00<?, ?it/s]"
      ]
     },
     "metadata": {},
     "output_type": "display_data"
    },
    {
     "data": {
      "application/vnd.jupyter.widget-view+json": {
       "model_id": "",
       "version_major": 2,
       "version_minor": 0
      },
      "text/plain": [
       "  0%|          | 0/11 [00:00<?, ?it/s]"
      ]
     },
     "metadata": {},
     "output_type": "display_data"
    }
   ],
   "source": [
    "# choose random distractors\n",
    "indices_random = np.random.choice(len(megaface_emb), \n",
    "                                  size=parameters_ir['N_distractors'], \n",
    "                                  replace=False)\n",
    "megaface_emb = megaface_emb[indices_random]\n",
    "\n",
    "\n",
    "results_dict = {}\n",
    "results_vr_dict = {}\n",
    "\n",
    "pbar = tqdm(methods)\n",
    "for method in pbar:\n",
    "    pbar.set_description(method)        \n",
    "    results_dict[method] = {'cosine':{}, 'features':{}}\n",
    "    results_arr = []\n",
    "    results_vr_arr = []\n",
    "\n",
    "    cplfw_features = np.load('features/cplfw/{}_dist.npy'.format(method))\n",
    "    megaface_features = np.load('features/megaface/{}_dist.npy'.format(method))[indices_random]\n",
    "    \n",
    "    IR = IrBigData(cplfw_emb, cplfw_features, \n",
    "               cplfw_labels, parameters_ir, distractors=megaface_emb, \n",
    "               distractor_features=megaface_features)\n",
    "    IR.params['similarity_type'] = 'features'\n",
    "    \n",
    "    quantiles_arr = [np.quantile(cplfw_features, i) for i in [0.984 + 0.001*i for i in range(11)]]\n",
    "    for alpha in tqdm(quantiles_arr, leave=False):\n",
    "        IR.params['alpha'] = alpha\n",
    "        IR.main()\n",
    "        results_arr.append(IR.CMT_)\n",
    "        results_vr_arr.append(IR.VR_)\n",
    "    \n",
    "    results_dict[method]['features']['ir'] = max(results_arr)\n",
    "    results_dict[method]['features']['vr'] = max(results_vr_arr)\n",
    "    \n",
    "    IR = IrBigData(cplfw_emb, None,\n",
    "               cplfw_labels, parameters_ir, distractors=megaface_emb, \n",
    "               distractor_features=None)\n",
    "    IR.params['similarity_type'] = 'cosine'\n",
    "    IR.main()\n",
    "    results_dict[method]['cosine']['ir'] = IR.CMT_\n",
    "    results_dict[method]['cosine']['vr'] = IR.VR_"
   ]
  },
  {
   "cell_type": "markdown",
   "metadata": {},
   "source": [
    "### Results table"
   ]
  },
  {
   "cell_type": "code",
   "execution_count": 65,
   "metadata": {},
   "outputs": [],
   "source": [
    "pca_table = pd.DataFrame.from_dict(results_dict['PCA'])\n",
    "pca_table['method'] = 'PCA'\n",
    "pca_table['metric'] = pca_table.index\n",
    "norms_table = pd.DataFrame.from_dict(results_dict['norms'])\n",
    "norms_table['method'] = 'norms'\n",
    "norms_table['metric'] = norms_table.index\n",
    "results_df = pd.concat([pca_table, norms_table]).set_index(['metric', 'method']).sort_index()"
   ]
  },
  {
   "cell_type": "code",
   "execution_count": 67,
   "metadata": {},
   "outputs": [
    {
     "data": {
      "text/html": [
       "<div>\n",
       "<style scoped>\n",
       "    .dataframe tbody tr th:only-of-type {\n",
       "        vertical-align: middle;\n",
       "    }\n",
       "\n",
       "    .dataframe tbody tr th {\n",
       "        vertical-align: top;\n",
       "    }\n",
       "\n",
       "    .dataframe thead th {\n",
       "        text-align: right;\n",
       "    }\n",
       "</style>\n",
       "<table border=\"1\" class=\"dataframe\">\n",
       "  <thead>\n",
       "    <tr style=\"text-align: right;\">\n",
       "      <th></th>\n",
       "      <th></th>\n",
       "      <th>cosine</th>\n",
       "      <th>features</th>\n",
       "    </tr>\n",
       "    <tr>\n",
       "      <th>metric</th>\n",
       "      <th>method</th>\n",
       "      <th></th>\n",
       "      <th></th>\n",
       "    </tr>\n",
       "  </thead>\n",
       "  <tbody>\n",
       "    <tr>\n",
       "      <th rowspan=\"2\" valign=\"top\">ir</th>\n",
       "      <th>PCA</th>\n",
       "      <td>0.665443</td>\n",
       "      <td>0.719979</td>\n",
       "    </tr>\n",
       "    <tr>\n",
       "      <th>norms</th>\n",
       "      <td>0.665443</td>\n",
       "      <td>0.742702</td>\n",
       "    </tr>\n",
       "    <tr>\n",
       "      <th rowspan=\"2\" valign=\"top\">vr</th>\n",
       "      <th>PCA</th>\n",
       "      <td>0.666492</td>\n",
       "      <td>0.721552</td>\n",
       "    </tr>\n",
       "    <tr>\n",
       "      <th>norms</th>\n",
       "      <td>0.666492</td>\n",
       "      <td>0.744625</td>\n",
       "    </tr>\n",
       "  </tbody>\n",
       "</table>\n",
       "</div>"
      ],
      "text/plain": [
       "                 cosine  features\n",
       "metric method                    \n",
       "ir     PCA     0.665443  0.719979\n",
       "       norms   0.665443  0.742702\n",
       "vr     PCA     0.666492  0.721552\n",
       "       norms   0.666492  0.744625"
      ]
     },
     "execution_count": 67,
     "metadata": {},
     "output_type": "execute_result"
    }
   ],
   "source": [
    "results_df"
   ]
  }
 ],
 "metadata": {
  "kernelspec": {
   "display_name": "Python 3",
   "language": "python",
   "name": "python3"
  },
  "language_info": {
   "codemirror_mode": {
    "name": "ipython",
    "version": 3
   },
   "file_extension": ".py",
   "mimetype": "text/x-python",
   "name": "python",
   "nbconvert_exporter": "python",
   "pygments_lexer": "ipython3",
   "version": "3.6.9"
  }
 },
 "nbformat": 4,
 "nbformat_minor": 2
}
