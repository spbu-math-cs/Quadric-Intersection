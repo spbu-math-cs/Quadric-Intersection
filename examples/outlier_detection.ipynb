{
 "cells": [
  {
   "cell_type": "markdown",
   "metadata": {},
   "source": [
    "# Demonstration and Comparison of Outlier Detection Methods\n",
    "\n",
    "This Jupyter notebook allows to compare different outlier detection methods in terms of the ROC-AUC score.\n",
    "\n",
    "We train unsupervised models on _MS1M_ dataset.\n",
    "We calculate features given by these models on the validation dataset and on the outlier dataset (`cplfw_anime_outliers`) and compare the distance between the resulting pair of distributions of features."
   ]
  },
  {
   "cell_type": "code",
   "execution_count": 1,
   "metadata": {
    "scrolled": false
   },
   "outputs": [],
   "source": [
    "import json\n",
    "import numpy as np\n",
    "from tqdm import tqdm\n",
    "from sklearn.metrics import roc_auc_score\n",
    "import pandas as pd\n",
    "import os\n",
    "import sys\n",
    "\n",
    "if os.getcwd().endswith('quadrics') is not True:\n",
    "    os.chdir('../')"
   ]
  },
  {
   "cell_type": "code",
   "execution_count": 53,
   "metadata": {},
   "outputs": [],
   "source": [
    "# parameters for consistecny with the paper's notation\n",
    "datasets_rename = {'calfw': 'CALFW','flickr': 'FFQH', 'ms1m': 'MS1M-ArcFace', 'cplfw': 'CPLFW', 'megaface': 'MegaFace'}\n",
    "columns_dict = {'OneClassSVM': 'OCSVM', 'PCA': 'PCA', 'norms': 'NORM', 'quadrics': 'Q-FULL', 'quadrics_alg': 'Q-SUB'}\n",
    "col_order = ['initial', 'Q-FULL', 'PCA', 'Q-SUB', 'OCSVM', 'NORM']\n",
    "dataset_order = {i: j for j, i in enumerate(['MS1M-ArcFace', 'MegaFace', 'FFQH', 'CPLFW','CALFW'])}"
   ]
  },
  {
   "cell_type": "markdown",
   "metadata": {},
   "source": [
    "### Calculation of Features\n",
    "Choose methods to train (`methods_train`), methods for comparison (`methods`) and the set of validation datasets (`datasets`).\n",
    "\n",
    "**Note:** we discard the pictures that cannot be recognized by a human from _CPLFW_ dataset, when it is considered as part of the validation."
   ]
  },
  {
   "cell_type": "code",
   "execution_count": 36,
   "metadata": {},
   "outputs": [],
   "source": [
    "with open(\"config.json\", \"r\") as read_file:\n",
    "    config_test = json.load(read_file)['test_params']\n",
    "\n",
    "methods_train = ['OneClassSVM', 'PCA', 'norms']\n",
    "methods = ['OneClassSVM', 'PCA', 'norms', 'quadrics', 'quadrics_alg']\n",
    "datasets = ['calfw', 'flickr', 'ms1m', 'cplfw', 'megaface']"
   ]
  },
  {
   "cell_type": "code",
   "execution_count": 3,
   "metadata": {},
   "outputs": [
    {
     "name": "stdout",
     "output_type": "stream",
     "text": [
      "outliers: 100%|###################################| 6/6 [05:41<00:00, 56.84s/it]\n"
     ]
    }
   ],
   "source": [
    "! python3 create_models.py --methods {' '.join(methods_train)}\n",
    "! python3 calculate_features.py --shuffle --methods {' '.join(methods)} --datasets {' '.join(datasets)} "
   ]
  },
  {
   "cell_type": "markdown",
   "metadata": {},
   "source": [
    "### Experiments\n",
    "\n",
    "We measure distance between the distributions using the ROC-AUC score (for the binary classifier that discriminates these two distributions).\n",
    "\n",
    "For each dataset we perform `config_test['n_experiments']` experiments, getting the mean and the 0.95-confidence interval."
   ]
  },
  {
   "cell_type": "code",
   "execution_count": 8,
   "metadata": {},
   "outputs": [],
   "source": [
    "def get_rocauc(distances_id, distances_ood):\n",
    "    \"\"\"Return roc score with 2 arrays as in-distribution\n",
    "       and out-of-distribution arrays respectively\"\"\"\n",
    "    y = np.array([1]*len(distances_id) + [0]*len(distances_ood))\n",
    "    return roc_auc_score(1-y, np.concatenate((distances_id, distances_ood), axis=0))\n",
    "\n",
    "\n",
    "def roc_auc_experiments(in_distr_features, ood_features, in_distr_fraction=config_test['proportion_of_outliers'],\n",
    "                       n_experiments=config_test['n_experiments'], shuffle=False, extra_params=None):\n",
    "    \n",
    "    result = []\n",
    "    emb_length = int(len(ood_features) / in_distr_fraction)\n",
    "    \n",
    "    for i in range(n_experiments):\n",
    "        if shuffle:\n",
    "            test_emb = in_distr_features[np.random.choice(len(in_distr_features), size=emb_length)]\n",
    "        else:\n",
    "            assert emb_length * n_experiments == len(in_distr_features)\n",
    "            test_emb = in_distr_features[i*emb_length:(i+1)*emb_length]\n",
    "            \n",
    "        result.append(get_rocauc(test_emb, ood_features))\n",
    "        \n",
    "    return np.mean(result), np.std(result)"
   ]
  },
  {
   "cell_type": "code",
   "execution_count": 9,
   "metadata": {
    "scrolled": true
   },
   "outputs": [],
   "source": [
    "results = {}\n",
    "\n",
    "for method in methods:\n",
    "    ood_features = np.load('features/outliers/{}_dist.npy'.format(method))\n",
    "    results[method] = {}\n",
    "    for dataset in datasets:\n",
    "        in_distr_features = np.load('features/{}/{}_dist.npy'.format(dataset, method))\n",
    "        mean, std = roc_auc_experiments(in_distr_features, ood_features)\n",
    "        conf_intv = 1.96 * std / np.sqrt(config_test['n_experiments'])\n",
    "        \n",
    "        results[method][dataset] = (np.round(mean, 3), np.round(conf_intv, 3))"
   ]
  },
  {
   "cell_type": "code",
   "execution_count": 78,
   "metadata": {},
   "outputs": [],
   "source": [
    "# rename dict\n",
    "result_renamed = {columns_dict[method]: {datasets_rename[dataset_name]: results[method][dataset_name] \n",
    "                        for dataset_name in results[method]} for method in results}\n",
    "\n",
    "results_df = pd.DataFrame.from_dict(result_renamed)"
   ]
  },
  {
   "cell_type": "markdown",
   "metadata": {},
   "source": [
    "### Results\n"
   ]
  },
  {
   "cell_type": "code",
   "execution_count": 98,
   "metadata": {
    "scrolled": true
   },
   "outputs": [
    {
     "data": {
      "text/html": [
       "<div>\n",
       "<style scoped>\n",
       "    .dataframe tbody tr th:only-of-type {\n",
       "        vertical-align: middle;\n",
       "    }\n",
       "\n",
       "    .dataframe tbody tr th {\n",
       "        vertical-align: top;\n",
       "    }\n",
       "\n",
       "    .dataframe thead th {\n",
       "        text-align: right;\n",
       "    }\n",
       "</style>\n",
       "<table border=\"1\" class=\"dataframe\">\n",
       "  <thead>\n",
       "    <tr style=\"text-align: right;\">\n",
       "      <th></th>\n",
       "      <th>OCSVM</th>\n",
       "      <th>PCA</th>\n",
       "      <th>NORM</th>\n",
       "      <th>Q-FULL</th>\n",
       "      <th>Q-SUB</th>\n",
       "    </tr>\n",
       "  </thead>\n",
       "  <tbody>\n",
       "    <tr>\n",
       "      <th>MS1M-ArcFace</th>\n",
       "      <td>(0.776, 0.0)</td>\n",
       "      <td>(0.883, 0.0)</td>\n",
       "      <td>(0.752, 0.0)</td>\n",
       "      <td>(0.972, 0.0)</td>\n",
       "      <td>(0.82, 0.0)</td>\n",
       "    </tr>\n",
       "    <tr>\n",
       "      <th>MegaFace</th>\n",
       "      <td>(0.698, 0.001)</td>\n",
       "      <td>(0.808, 0.0)</td>\n",
       "      <td>(0.742, 0.0)</td>\n",
       "      <td>(0.885, 0.0)</td>\n",
       "      <td>(0.763, 0.001)</td>\n",
       "    </tr>\n",
       "    <tr>\n",
       "      <th>FFQH</th>\n",
       "      <td>(0.707, 0.0)</td>\n",
       "      <td>(0.898, 0.0)</td>\n",
       "      <td>(0.72, 0.0)</td>\n",
       "      <td>(0.924, 0.0)</td>\n",
       "      <td>(0.823, 0.0)</td>\n",
       "    </tr>\n",
       "    <tr>\n",
       "      <th>CPLFW</th>\n",
       "      <td>(0.774, 0.0)</td>\n",
       "      <td>(0.819, 0.0)</td>\n",
       "      <td>(0.747, 0.0)</td>\n",
       "      <td>(0.922, 0.0)</td>\n",
       "      <td>(0.727, 0.0)</td>\n",
       "    </tr>\n",
       "    <tr>\n",
       "      <th>CALFW</th>\n",
       "      <td>(0.788, 0.0)</td>\n",
       "      <td>(0.878, 0.0)</td>\n",
       "      <td>(0.703, 0.0)</td>\n",
       "      <td>(0.973, 0.0)</td>\n",
       "      <td>(0.789, 0.0)</td>\n",
       "    </tr>\n",
       "  </tbody>\n",
       "</table>\n",
       "</div>"
      ],
      "text/plain": [
       "                       OCSVM           PCA          NORM        Q-FULL  \\\n",
       "MS1M-ArcFace    (0.776, 0.0)  (0.883, 0.0)  (0.752, 0.0)  (0.972, 0.0)   \n",
       "MegaFace      (0.698, 0.001)  (0.808, 0.0)  (0.742, 0.0)  (0.885, 0.0)   \n",
       "FFQH            (0.707, 0.0)  (0.898, 0.0)   (0.72, 0.0)  (0.924, 0.0)   \n",
       "CPLFW           (0.774, 0.0)  (0.819, 0.0)  (0.747, 0.0)  (0.922, 0.0)   \n",
       "CALFW           (0.788, 0.0)  (0.878, 0.0)  (0.703, 0.0)  (0.973, 0.0)   \n",
       "\n",
       "                       Q-SUB  \n",
       "MS1M-ArcFace     (0.82, 0.0)  \n",
       "MegaFace      (0.763, 0.001)  \n",
       "FFQH            (0.823, 0.0)  \n",
       "CPLFW           (0.727, 0.0)  \n",
       "CALFW           (0.789, 0.0)  "
      ]
     },
     "execution_count": 98,
     "metadata": {},
     "output_type": "execute_result"
    }
   ],
   "source": [
    "results_df.sort_index(key= lambda x: [dataset_order[i] for i in x])"
   ]
  },
  {
   "cell_type": "markdown",
   "metadata": {},
   "source": [
    "#### Remark\n",
    "The results for OCSVM in the table above do not need to coincide with the corresponding results from Table 1 in the paper. In this notebook we used a data sample of size 2000 to train OCSVM while for Table 1 we used a data sample of size 80000 to train OCSVM. Also, results for some other methods may differ from Table 1 by a tiny bit. This is caused by the different number of experiments they were averaged over (20 here vs 10 in the paper)."
   ]
  }
 ],
 "metadata": {
  "kernelspec": {
   "display_name": "Python 3",
   "language": "python",
   "name": "python3"
  },
  "language_info": {
   "codemirror_mode": {
    "name": "ipython",
    "version": 3
   },
   "file_extension": ".py",
   "mimetype": "text/x-python",
   "name": "python",
   "nbconvert_exporter": "python",
   "pygments_lexer": "ipython3",
   "version": "3.8.10"
  }
 },
 "nbformat": 4,
 "nbformat_minor": 2
}
