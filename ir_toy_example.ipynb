{
 "cells": [
  {
   "cell_type": "code",
   "execution_count": 1,
   "metadata": {},
   "outputs": [],
   "source": [
    "import numpy as np\n",
    "from sklearn.preprocessing import normalize\n",
    "from ir_class import *"
   ]
  },
  {
   "cell_type": "code",
   "execution_count": 2,
   "metadata": {},
   "outputs": [],
   "source": [
    "emb, distractor = np.load(\"toy_data/embeddings.npy\"), np.load(\"toy_data/distractors.npy\")\n",
    "emb_names = np.load(\"toy_data/labels.npy\")\n",
    "cplfw_quadrics_distance = np.load(\"toy_data/cplfw_quadrics_features.npy\")\n",
    "megaface_quadrics_distance = np.load(\"toy_data/megaface_quadrics_features.npy\")\n"
   ]
  },
  {
   "cell_type": "code",
   "execution_count": 3,
   "metadata": {},
   "outputs": [],
   "source": [
    "parameters = {\n",
    "    \"similarity_type\": \"dot_product\",\n",
    "    \"fpr_threshold\": 1e-5,\n",
    "    \"dist_type\": \"dot_product\",\n",
    "    \"protocol\": \"data_no_distractors\",\n",
    "    \"alpha\" : 0.045\n",
    "}"
   ]
  },
  {
   "cell_type": "code",
   "execution_count": 4,
   "metadata": {},
   "outputs": [],
   "source": [
    "IR = IrBigData(normalize(emb), cplfw_quadrics_distance, \n",
    "               emb_names, parameters, distractors=normalize(distractor), \n",
    "               distractor_features=megaface_quadrics_distance)"
   ]
  },
  {
   "cell_type": "code",
   "execution_count": 5,
   "metadata": {},
   "outputs": [
    {
     "name": "stderr",
     "output_type": "stream",
     "text": [
      "8it [00:00, 57952.39it/s]"
     ]
    },
    {
     "name": "stdout",
     "output_type": "stream",
     "text": [
      "id rate = 0.0\n",
      "id rate no distractors = 0.25\n",
      "id rate only distractors = 1.0\n"
     ]
    },
    {
     "name": "stderr",
     "output_type": "stream",
     "text": [
      "\n"
     ]
    }
   ],
   "source": [
    "IR.final_func()"
   ]
  },
  {
   "cell_type": "code",
   "execution_count": null,
   "metadata": {},
   "outputs": [],
   "source": []
  },
  {
   "cell_type": "code",
   "execution_count": null,
   "metadata": {},
   "outputs": [],
   "source": []
  }
 ],
 "metadata": {
  "kernelspec": {
   "display_name": "Python 3",
   "language": "python",
   "name": "python3"
  },
  "language_info": {
   "codemirror_mode": {
    "name": "ipython",
    "version": 3
   },
   "file_extension": ".py",
   "mimetype": "text/x-python",
   "name": "python",
   "nbconvert_exporter": "python",
   "pygments_lexer": "ipython3",
   "version": "3.7.1"
  }
 },
 "nbformat": 4,
 "nbformat_minor": 5
}
