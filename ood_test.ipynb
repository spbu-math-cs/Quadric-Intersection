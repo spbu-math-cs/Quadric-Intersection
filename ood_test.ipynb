{
 "cells": [
  {
   "cell_type": "markdown",
   "metadata": {},
   "source": [
    "# Out-of-disrtibution test\n",
    "\n",
    "This jupyter notebook provide out-of-distribution test. Namely, we train unsupervised models on ms1m dataset, considered as out-of-distribution detector, calculate features for validation datasets and for outliers dataset. Then we calculate distance between outliers and validation datasets features distribution. "
   ]
  },
  {
   "cell_type": "code",
   "execution_count": 1,
   "metadata": {},
   "outputs": [],
   "source": [
    "import json\n",
    "import numpy as np\n",
    "from tqdm import tqdm\n",
    "from sklearn.metrics import roc_auc_score\n",
    "import pandas as pd"
   ]
  },
  {
   "cell_type": "markdown",
   "metadata": {},
   "source": [
    "### Features extraction\n",
    "Choose methods and datasets. As out-of-distribution dataset we use cplfw_anime_outliers. Also we discard theese outliers from cplfw dataset.\n"
   ]
  },
  {
   "cell_type": "code",
   "execution_count": 2,
   "metadata": {},
   "outputs": [],
   "source": [
    "with open(\"config.json\", \"r\") as read_file:\n",
    "    config_test = json.load(read_file)['test_params']\n",
    "\n",
    "methods = ['OneClassSVM', 'PCA', 'norms']\n",
    "datasets = ['calfw', 'flickr', 'ms1m', 'cplfw', 'megaface']"
   ]
  },
  {
   "cell_type": "code",
   "execution_count": 3,
   "metadata": {},
   "outputs": [
    {
     "name": "stdout",
     "output_type": "stream",
     "text": [
      "outliers: 100%|##################################| 6/6 [39:08<00:00, 391.35s/it]\n"
     ]
    }
   ],
   "source": [
    "! python3 create_models.py --methods {' '.join(methods)}\n",
    "! python3 calculate_features.py --shuffle --methods {' '.join(methods)} --datasets {' '.join(datasets)} \n"
   ]
  },
  {
   "cell_type": "markdown",
   "metadata": {},
   "source": [
    "### Experiments\n",
    "\n",
    "As a distance between in-distribution and out-distribution we use ROC-AUC score. Namely, for a given binary classifier, "
   ]
  },
  {
   "cell_type": "code",
   "execution_count": 6,
   "metadata": {},
   "outputs": [],
   "source": [
    "def get_rocauc(distances_id, distances_ood):\n",
    "    \"\"\"Return roc score with 2 arrays as in-distribution\n",
    "       and out-of-distribution arrays respectively\"\"\"\n",
    "    y = np.array([1]*len(distances_id) + [0]*len(distances_ood))\n",
    "    return roc_auc_score(1-y, np.concatenate((distances_id, distances_ood), axis=0))\n",
    "\n",
    "\n",
    "def roc_auc_experiments(in_distr_features, ood_features, in_distr_fraction=config_test['proportion_of_outliers'],\n",
    "                       n_experiments=config_test['n_experiments'], shuffle=False, extra_params=None):\n",
    "    \n",
    "    result = []\n",
    "    emb_length = int(len(ood_features) / in_distr_fraction)\n",
    "    \n",
    "    for i in range(n_experiments):\n",
    "        if shuffle:\n",
    "            test_emb = in_distr_features[np.random.choice(len(in_distr_features), size=emb_length)]\n",
    "        else:\n",
    "            assert emb_length * n_experiments == len(in_distr_features)\n",
    "            test_emb = in_distr_features[i*emb_length:(i+1)*emb_length]\n",
    "            \n",
    "        result.append(get_rocauc(test_emb, ood_features))\n",
    "        \n",
    "    return np.mean(result), np.std(result)\n"
   ]
  },
  {
   "cell_type": "code",
   "execution_count": 9,
   "metadata": {},
   "outputs": [],
   "source": [
    "results = {}\n",
    "\n",
    "for method in methods:\n",
    "    ood_features = np.load('features/outliers/{}_dist.npy'.format(method))\n",
    "    results[method] = {}\n",
    "    for dataset in datasets:\n",
    "        in_distr_features = np.load('features/{}/{}_dist.npy'.format(dataset, method))\n",
    "        mean, std = roc_auc_experiments(in_distr_features, ood_features)\n",
    "        conf_intv = 1.96 * std / np.sqrt(config_test['n_experiments'])\n",
    "        \n",
    "        results[method][dataset] = (np.round(mean, 3), np.round(conf_intv, 3))\n",
    "\n",
    "results_df = pd.DataFrame.from_dict(results)\n"
   ]
  },
  {
   "cell_type": "markdown",
   "metadata": {},
   "source": [
    "### results table\n"
   ]
  },
  {
   "cell_type": "code",
   "execution_count": 10,
   "metadata": {},
   "outputs": [
    {
     "data": {
      "text/html": [
       "<div>\n",
       "<style scoped>\n",
       "    .dataframe tbody tr th:only-of-type {\n",
       "        vertical-align: middle;\n",
       "    }\n",
       "\n",
       "    .dataframe tbody tr th {\n",
       "        vertical-align: top;\n",
       "    }\n",
       "\n",
       "    .dataframe thead th {\n",
       "        text-align: right;\n",
       "    }\n",
       "</style>\n",
       "<table border=\"1\" class=\"dataframe\">\n",
       "  <thead>\n",
       "    <tr style=\"text-align: right;\">\n",
       "      <th></th>\n",
       "      <th>OneClassSVM</th>\n",
       "      <th>PCA</th>\n",
       "      <th>norms</th>\n",
       "    </tr>\n",
       "  </thead>\n",
       "  <tbody>\n",
       "    <tr>\n",
       "      <th>calfw</th>\n",
       "      <td>(0.788, 0.0)</td>\n",
       "      <td>(0.878, 0.0)</td>\n",
       "      <td>(0.703, 0.0)</td>\n",
       "    </tr>\n",
       "    <tr>\n",
       "      <th>flickr</th>\n",
       "      <td>(0.707, 0.001)</td>\n",
       "      <td>(0.898, 0.0)</td>\n",
       "      <td>(0.72, 0.0)</td>\n",
       "    </tr>\n",
       "    <tr>\n",
       "      <th>ms1m</th>\n",
       "      <td>(0.776, 0.0)</td>\n",
       "      <td>(0.883, 0.0)</td>\n",
       "      <td>(0.751, 0.0)</td>\n",
       "    </tr>\n",
       "    <tr>\n",
       "      <th>cplfw</th>\n",
       "      <td>(0.774, 0.0)</td>\n",
       "      <td>(0.819, 0.0)</td>\n",
       "      <td>(0.747, 0.0)</td>\n",
       "    </tr>\n",
       "    <tr>\n",
       "      <th>megaface</th>\n",
       "      <td>(0.698, 0.001)</td>\n",
       "      <td>(0.808, 0.0)</td>\n",
       "      <td>(0.742, 0.0)</td>\n",
       "    </tr>\n",
       "  </tbody>\n",
       "</table>\n",
       "</div>"
      ],
      "text/plain": [
       "             OneClassSVM           PCA         norms\n",
       "calfw       (0.788, 0.0)  (0.878, 0.0)  (0.703, 0.0)\n",
       "flickr    (0.707, 0.001)  (0.898, 0.0)   (0.72, 0.0)\n",
       "ms1m        (0.776, 0.0)  (0.883, 0.0)  (0.751, 0.0)\n",
       "cplfw       (0.774, 0.0)  (0.819, 0.0)  (0.747, 0.0)\n",
       "megaface  (0.698, 0.001)  (0.808, 0.0)  (0.742, 0.0)"
      ]
     },
     "execution_count": 10,
     "metadata": {},
     "output_type": "execute_result"
    }
   ],
   "source": [
    "results_df"
   ]
  },
  {
   "cell_type": "code",
   "execution_count": null,
   "metadata": {},
   "outputs": [],
   "source": []
  }
 ],
 "metadata": {
  "kernelspec": {
   "display_name": "Python 3",
   "language": "python",
   "name": "python3"
  },
  "language_info": {
   "codemirror_mode": {
    "name": "ipython",
    "version": 3
   },
   "file_extension": ".py",
   "mimetype": "text/x-python",
   "name": "python",
   "nbconvert_exporter": "python",
   "pygments_lexer": "ipython3",
   "version": "3.6.9"
  }
 },
 "nbformat": 4,
 "nbformat_minor": 2
}
