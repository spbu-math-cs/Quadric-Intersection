{
 "cells": [
  {
   "cell_type": "code",
   "execution_count": 1,
   "metadata": {},
   "outputs": [],
   "source": [
    "import json\n",
    "import numpy as np\n",
    "from tqdm import tqdm\n",
    "from sklearn.metrics import roc_auc_score\n",
    "import pandas as pd"
   ]
  },
  {
   "cell_type": "code",
   "execution_count": 2,
   "metadata": {},
   "outputs": [],
   "source": [
    "with open(\"config.json\", \"r\") as read_file:\n",
    "    config_test = json.load(read_file)['test_params']\n",
    "\n",
    "methods = ['OneClassSVM', 'PCA', 'norms']\n",
    "datasets = ['calfw', 'flickr', 'ms1m', 'cplfw', 'megaface']"
   ]
  },
  {
   "cell_type": "code",
   "execution_count": null,
   "metadata": {},
   "outputs": [
    {
     "name": "stdout",
     "output_type": "stream",
     "text": [
      "^C\r\n",
      "Traceback (most recent call last):\r\n",
      "  File \"create_models.py\", line 47, in <module>\r\n",
      "    clf = PCA(**config_dict['PCA']).fit(embeddings[embs_indices])\r\n",
      "  File \"/usr/local/lib/python3.6/dist-packages/sklearn/decomposition/_pca.py\", line 359, in fit\r\n",
      "    self._fit(X)\r\n",
      "  File \"/usr/local/lib/python3.6/dist-packages/sklearn/decomposition/_pca.py\", line 432, in _fit\r\n",
      "    return self._fit_truncated(X, n_components, self._fit_svd_solver)\r\n",
      "  File \"/usr/local/lib/python3.6/dist-packages/sklearn/decomposition/_pca.py\", line 551, in _fit_truncated\r\n",
      "    random_state=random_state)\r\n",
      "  File \"/usr/local/lib/python3.6/dist-packages/sklearn/utils/validation.py\", line 63, in inner_f\r\n",
      "    return f(*args, **kwargs)\r\n",
      "  File \"/usr/local/lib/python3.6/dist-packages/sklearn/utils/extmath.py\", line 351, in randomized_svd\r\n",
      "    random_state=random_state)\r\n",
      "  File \"/usr/local/lib/python3.6/dist-packages/sklearn/utils/validation.py\", line 63, in inner_f\r\n",
      "    return f(*args, **kwargs)\r\n",
      "  File \"/usr/local/lib/python3.6/dist-packages/sklearn/utils/extmath.py\", line 233, in randomized_range_finder\r\n",
      "    Q, _ = linalg.lu(safe_sparse_dot(A, Q), permute_l=True)\r\n",
      "  File \"/usr/local/lib/python3.6/dist-packages/scipy/linalg/decomp_lu.py\", line 208, in lu\r\n",
      "    a1 = asarray_chkfinite(a)\r\n",
      "  File \"/usr/local/lib/python3.6/dist-packages/numpy/lib/function_base.py\", line 484, in asarray_chkfinite\r\n",
      "    if a.dtype.char in typecodes['AllFloat'] and not np.isfinite(a).all():\r\n",
      "KeyboardInterrupt\r\n"
     ]
    }
   ],
   "source": [
    "! python3 create_models.py --methods {' '.join(methods)}\n",
    "! python3 calculate_features.py --shuffle --methods {' '.join(methods)} --datasets {' '.join(datasets)} \n"
   ]
  },
  {
   "cell_type": "code",
   "execution_count": 4,
   "metadata": {},
   "outputs": [],
   "source": [
    "def get_rocauc(distances_id, distances_ood):\n",
    "    \"\"\"Return roc score with 2 arrays as in-distribution\n",
    "       and out-of-distribution arrays respectively\"\"\"\n",
    "    y = np.array([1]*len(distances_id) + [0]*len(distances_ood))\n",
    "    return roc_auc_score(1-y, np.concatenate((distances_id, distances_ood), axis=0))\n",
    "\n",
    "\n",
    "def roc_auc_experiments(in_distr_features, ood_features, in_distr_fraction=config_test['proportion_of_outliers'],\n",
    "                       n_experiments=config_test['n_experiments'], shuffle=False, extra_params=None):\n",
    "    \n",
    "    result = []\n",
    "    emb_length = int(len(ood_features) / in_distr_fraction)\n",
    "    \n",
    "    for i in range(n_experiments):\n",
    "        if shuffle:\n",
    "            test_emb = in_distr_features[np.random.choice(len(in_distr_features), size=emb_length)]\n",
    "        else:\n",
    "            assert emb_length * n_experiments == len(in_distr_features)\n",
    "            test_emb = in_distr_features[i*emb_length:(i+1)*emb_length]\n",
    "            \n",
    "        result.append(get_rocauc(test_emb, ood_features))\n",
    "        \n",
    "    return np.mean(result), np.std(result)\n"
   ]
  },
  {
   "cell_type": "code",
   "execution_count": 6,
   "metadata": {},
   "outputs": [],
   "source": [
    "results = {}\n",
    "\n",
    "for method in methods:\n",
    "    ood_features = np.load('features/outliers/{}_dist.npy'.format(method))\n",
    "    results[method] = {}\n",
    "    for dataset in datasets:\n",
    "        in_distr_features = np.load('features/{}/{}_dist.npy'.format(dataset, method))\n",
    "        mean, std = roc_auc_experiments(in_distr_features, ood_features)\n",
    "        conf_intv = 1.96 * std / np.sqrt(config_test['n_experiments'])\n",
    "        \n",
    "        results[method][dataset] = (np.round(mean, 2), np.round(conf_intv, 2))\n",
    "\n",
    "results_df = pd.DataFrame.from_dict(results)\n"
   ]
  },
  {
   "cell_type": "code",
   "execution_count": 7,
   "metadata": {},
   "outputs": [
    {
     "data": {
      "text/html": [
       "<div>\n",
       "<style scoped>\n",
       "    .dataframe tbody tr th:only-of-type {\n",
       "        vertical-align: middle;\n",
       "    }\n",
       "\n",
       "    .dataframe tbody tr th {\n",
       "        vertical-align: top;\n",
       "    }\n",
       "\n",
       "    .dataframe thead th {\n",
       "        text-align: right;\n",
       "    }\n",
       "</style>\n",
       "<table border=\"1\" class=\"dataframe\">\n",
       "  <thead>\n",
       "    <tr style=\"text-align: right;\">\n",
       "      <th></th>\n",
       "      <th>OneClassSVM</th>\n",
       "      <th>PCA</th>\n",
       "      <th>norms</th>\n",
       "    </tr>\n",
       "  </thead>\n",
       "  <tbody>\n",
       "    <tr>\n",
       "      <th>calfw</th>\n",
       "      <td>(0.29, 0.0)</td>\n",
       "      <td>(0.12, 0.0)</td>\n",
       "      <td>(0.3, 0.0)</td>\n",
       "    </tr>\n",
       "    <tr>\n",
       "      <th>flickr</th>\n",
       "      <td>(0.38, 0.0)</td>\n",
       "      <td>(0.1, 0.0)</td>\n",
       "      <td>(0.28, 0.0)</td>\n",
       "    </tr>\n",
       "    <tr>\n",
       "      <th>ms1m</th>\n",
       "      <td>(0.32, 0.0)</td>\n",
       "      <td>(0.11, 0.0)</td>\n",
       "      <td>(0.25, 0.0)</td>\n",
       "    </tr>\n",
       "    <tr>\n",
       "      <th>cplfw</th>\n",
       "      <td>(0.31, 0.0)</td>\n",
       "      <td>(0.18, 0.0)</td>\n",
       "      <td>(0.26, 0.0)</td>\n",
       "    </tr>\n",
       "    <tr>\n",
       "      <th>megaface</th>\n",
       "      <td>(0.39, 0.0)</td>\n",
       "      <td>(0.18, 0.0)</td>\n",
       "      <td>(0.26, 0.0)</td>\n",
       "    </tr>\n",
       "  </tbody>\n",
       "</table>\n",
       "</div>"
      ],
      "text/plain": [
       "          OneClassSVM          PCA        norms\n",
       "calfw     (0.29, 0.0)  (0.12, 0.0)   (0.3, 0.0)\n",
       "flickr    (0.38, 0.0)   (0.1, 0.0)  (0.28, 0.0)\n",
       "ms1m      (0.32, 0.0)  (0.11, 0.0)  (0.25, 0.0)\n",
       "cplfw     (0.31, 0.0)  (0.18, 0.0)  (0.26, 0.0)\n",
       "megaface  (0.39, 0.0)  (0.18, 0.0)  (0.26, 0.0)"
      ]
     },
     "execution_count": 7,
     "metadata": {},
     "output_type": "execute_result"
    }
   ],
   "source": [
    "results_df"
   ]
  },
  {
   "cell_type": "code",
   "execution_count": null,
   "metadata": {},
   "outputs": [],
   "source": [
    "        print(\"id rate only distractors =\",\n",
    "              (len(self.pairs_true_) - len(\n",
    "                  self.pairs_false_distractors_)) / len(self.pairs_true_))\n",
    "\n"
   ]
  }
 ],
 "metadata": {
  "kernelspec": {
   "display_name": "Python 3",
   "language": "python",
   "name": "python3"
  },
  "language_info": {
   "codemirror_mode": {
    "name": "ipython",
    "version": 3
   },
   "file_extension": ".py",
   "mimetype": "text/x-python",
   "name": "python",
   "nbconvert_exporter": "python",
   "pygments_lexer": "ipython3",
   "version": "3.6.9"
  }
 },
 "nbformat": 4,
 "nbformat_minor": 2
}
